{
 "cells": [
  {
   "cell_type": "markdown",
   "metadata": {
    "application/vnd.databricks.v1+cell": {
     "cellMetadata": {},
     "inputWidgets": {},
     "nuid": "5320b993-36c0-4bfa-ba93-cb1a1deb549a",
     "showTitle": false,
     "title": ""
    }
   },
   "source": [
    "#Creating gold view aggregating by type and location"
   ]
  },
  {
   "cell_type": "code",
   "execution_count": 0,
   "metadata": {
    "application/vnd.databricks.v1+cell": {
     "cellMetadata": {},
     "inputWidgets": {},
     "nuid": "5e5c3fa2-0448-449c-8b80-6444a6f0db30",
     "showTitle": false,
     "title": ""
    }
   },
   "outputs": [],
   "source": [
    "%sql\n",
    "\n",
    "create or replace view vw_breweries_type_location as\n",
    "select\n",
    "    brewery_type,\n",
    "    state,\n",
    "    city,\n",
    "    count(*) as brewery_count\n",
    "from\n",
    "    silver.open_brewery_db.breweries_list\n",
    "group by\n",
    "      all"
   ]
  }
 ],
 "metadata": {
  "application/vnd.databricks.v1+notebook": {
   "dashboards": [],
   "environmentMetadata": null,
   "language": "python",
   "notebookMetadata": {
    "pythonIndentUnit": 4
   },
   "notebookName": "gold_open_brewery_db_api",
   "widgets": {}
  }
 },
 "nbformat": 4,
 "nbformat_minor": 0
}
