{
 "cells": [
  {
   "cell_type": "code",
   "execution_count": 0,
   "metadata": {
    "application/vnd.databricks.v1+cell": {
     "cellMetadata": {},
     "inputWidgets": {},
     "nuid": "2abd1577-699a-4e8f-aa66-85414310fdb6",
     "showTitle": false,
     "title": ""
    }
   },
   "outputs": [],
   "source": [
    "from datetime import timedelta\n",
    "from airflow import DAG\n",
    "from airflow.utils.dates import days_ago\n",
    "from airflow_pentaho.operators.CarteJobOperator import CarteJobOperator\n",
    "from airflow.providers.databricks.operators.databricks import DatabricksRunNowOperator\n",
    "from airflow.providers.ssh.operators.ssh import SSHOperator\n",
    "import pendulum\n",
    "\n",
    "\n",
    "local_tz = schedule_interval='America/Sao_Paulo'\n",
    "\n",
    "DAG_NAME = \"open_brewery_db_api\"\n",
    "\n",
    "DEFAULT_ARGS = {\n",
    "    'owner': 'tiago.vieira',\n",
    "    'depends_on_past': False,\n",
    "    'start_date': days_ago(1),\n",
    "    'email': ['tiagozvieira@gmail.com'],\n",
    "    'retries': 2,\n",
    "    'retry_delay': timedelta(minutes=5),\n",
    "    'email_on_failure': True,\n",
    "    'email_on_retry': False\n",
    "}\n",
    "\n",
    "with DAG(dag_id=DAG_NAME,\n",
    "         default_args=DEFAULT_ARGS,\n",
    "         tags=[\"open_brewery_db_api\"],\n",
    "         schedule_interval='0 7 * * *',\n",
    "         catchup=False,\n",
    "         dagrun_timeout=timedelta(hours=2)\n",
    "         ) as dag:\n",
    "    \n",
    "    notebook_run = DatabricksRunNowOperator(\n",
    "        task_id=\"notebook_run\",\n",
    "        job_id=\"261770633869419\",\n",
    "        dag=dag\n",
    "        )\n",
    " \n",
    "notebook_run"
   ]
  }
 ],
 "metadata": {
  "application/vnd.databricks.v1+notebook": {
   "dashboards": [],
   "environmentMetadata": null,
   "language": "python",
   "notebookMetadata": {
    "pythonIndentUnit": 4
   },
   "notebookName": "dag_airflow_open_brewery_db_api",
   "widgets": {}
  }
 },
 "nbformat": 4,
 "nbformat_minor": 0
}
