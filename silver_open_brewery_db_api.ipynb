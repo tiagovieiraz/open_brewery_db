{
 "cells": [
  {
   "cell_type": "markdown",
   "metadata": {
    "application/vnd.databricks.v1+cell": {
     "cellMetadata": {},
     "inputWidgets": {},
     "nuid": "c79925aa-aa79-43a1-aae4-eccfba9d8bf8",
     "showTitle": false,
     "title": ""
    }
   },
   "source": [
    "#Creating silver table if not exists"
   ]
  },
  {
   "cell_type": "code",
   "execution_count": 0,
   "metadata": {
    "application/vnd.databricks.v1+cell": {
     "cellMetadata": {},
     "inputWidgets": {},
     "nuid": "5e5c3fa2-0448-449c-8b80-6444a6f0db30",
     "showTitle": false,
     "title": ""
    }
   },
   "outputs": [],
   "source": [
    "spark.sql(f\"\"\"\n",
    "CREATE TABLE IF NOT EXISTS silver.open_brewery_db.breweries_list(\n",
    "id string,\n",
    "name string,\n",
    "brewery_type string, \n",
    "address_1 string,\n",
    "address_2 string,\n",
    "address_3 string,\n",
    "city string,\n",
    "state_province string,\n",
    "postal_code string,\n",
    "country string,\n",
    "longitude double,\n",
    "latitude double,\n",
    "phone string,\n",
    "website_url string,\n",
    "state string,\n",
    "street string,\n",
    "insertion_at timestamp\n",
    ")\"\"\")"
   ]
  },
  {
   "cell_type": "markdown",
   "metadata": {
    "application/vnd.databricks.v1+cell": {
     "cellMetadata": {},
     "inputWidgets": {},
     "nuid": "8caa5e3a-c882-440a-b8c4-1144027ea5b5",
     "showTitle": false,
     "title": ""
    }
   },
   "source": [
    "\n",
    "#Getting the most recent data from bronze layer"
   ]
  },
  {
   "cell_type": "code",
   "execution_count": 0,
   "metadata": {
    "application/vnd.databricks.v1+cell": {
     "cellMetadata": {},
     "inputWidgets": {},
     "nuid": "2f5390f3-97f6-43b6-a611-996cb35d948f",
     "showTitle": false,
     "title": ""
    }
   },
   "outputs": [],
   "source": [
    "df = spark.sql(\"\"\"\n",
    " SELECT \n",
    "    a.*\n",
    "    FROM \n",
    "        bronze.open_brewery_db.breweries_list a\n",
    "    WHERE \n",
    "        a.insertion_at = (SELECT MAX(insertion_at) FROM bronze.open_brewery_db.breweries_list)\"\"\")"
   ]
  },
  {
   "cell_type": "markdown",
   "metadata": {
    "application/vnd.databricks.v1+cell": {
     "cellMetadata": {},
     "inputWidgets": {},
     "nuid": "05a299f5-5690-4e6f-9afa-0580902247d8",
     "showTitle": false,
     "title": ""
    }
   },
   "source": [
    "#Transformations\n",
    "Casting \"latitude\" and \"longitude\" columns to Double type."
   ]
  },
  {
   "cell_type": "code",
   "execution_count": 0,
   "metadata": {
    "application/vnd.databricks.v1+cell": {
     "cellMetadata": {},
     "inputWidgets": {},
     "nuid": "70176f31-2e3e-422f-a39a-8e9098db06a1",
     "showTitle": false,
     "title": ""
    }
   },
   "outputs": [],
   "source": [
    "df = df.withColumn(\"longitude\", col(\"longitude\").cast(DoubleType())) \\\n",
    "       .withColumn(\"latitude\", col(\"latitude\").cast(DoubleType()))"
   ]
  },
  {
   "cell_type": "code",
   "execution_count": 0,
   "metadata": {
    "application/vnd.databricks.v1+cell": {
     "cellMetadata": {},
     "inputWidgets": {},
     "nuid": "9436b2e3-1b98-4b8b-a155-c0d4dab22409",
     "showTitle": false,
     "title": ""
    }
   },
   "outputs": [],
   "source": [
    "tableFullName = \"silver.open_brewery_db.breweries_list\""
   ]
  },
  {
   "cell_type": "markdown",
   "metadata": {
    "application/vnd.databricks.v1+cell": {
     "cellMetadata": {},
     "inputWidgets": {},
     "nuid": "c78ce78a-4413-4fc1-800e-b192632c69e7",
     "showTitle": false,
     "title": ""
    }
   },
   "source": [
    "#Writing silver delta table partioning by location (state and city)"
   ]
  },
  {
   "cell_type": "code",
   "execution_count": 0,
   "metadata": {
    "application/vnd.databricks.v1+cell": {
     "cellMetadata": {},
     "inputWidgets": {},
     "nuid": "2abd1577-699a-4e8f-aa66-85414310fdb6",
     "showTitle": false,
     "title": ""
    }
   },
   "outputs": [],
   "source": [
    "df.write.format(\"delta\").mode(\"overwrite\").partitionBy(\"state\", \"city\").saveAsTable(tableFullName)"
   ]
  }
 ],
 "metadata": {
  "application/vnd.databricks.v1+notebook": {
   "dashboards": [],
   "environmentMetadata": null,
   "language": "python",
   "notebookMetadata": {
    "pythonIndentUnit": 4
   },
   "notebookName": "silver_open_brewery_db_api",
   "widgets": {}
  }
 },
 "nbformat": 4,
 "nbformat_minor": 0
}
